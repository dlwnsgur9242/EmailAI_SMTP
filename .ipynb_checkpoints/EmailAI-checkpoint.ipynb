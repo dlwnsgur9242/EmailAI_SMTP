{
 "cells": [
  {
   "cell_type": "code",
   "execution_count": 5,
   "id": "a92ffe57",
   "metadata": {},
   "outputs": [
    {
     "data": {
      "text/plain": [
       "(221,\n",
       " b'2.0.0 closing connection jy8-20020a17090342c800b001dd76dabe67sm7911742plb.185 - gsmtp')"
      ]
     },
     "execution_count": 5,
     "metadata": {},
     "output_type": "execute_result"
    }
   ],
   "source": [
    "import smtplib\n",
    "from email.message import EmailMessage\n",
    "\n",
    "option = \"gmail\" # 구글 G메일 이용\n",
    "# option = \"nmail\" # 네이버 메일 이용\n",
    "\n",
    "if option == \"gmail\": # 구글 G메일의 SMTP 서버 이용\n",
    "    smtp_server = \"smtp.gmail.com\" # 구글 G메일의 SMPT 서버 주소\n",
    "    port = 587 # TLS 암호화 프로토콜 사용하는 포트\n",
    "    \n",
    "    email_address = \"dlwnsgur9242@gmail.com\" # 자신의 이메일 주소 입력\n",
    "    password = \"exld tjmu izqb zeye\" # 앱 비밀번호(16자리) 입력\n",
    "    \n",
    "elif option == \"nmail\": # 네이버 메일의 SMTP 서버 이용\n",
    "    smtp_server = \"smtp.naver.com\" # 네이버 메일의 SMTP 서버 주소\n",
    "    port = 587 # TLS 암호화 프로토콜 사용하는 포트\n",
    "    \n",
    "    email_address = \"dlwnsgur9242@naver.com\" # 자신의 이메일 주소 입력\n",
    "    password = \"jg61832230@\"\n",
    "    \n",
    "smtp = smtplib.SMTP(smtp_server, port) # SMTP 객체를 생성\n",
    "smtp.starttls()\n",
    "smtp.login(email_address, password) # SMTP 서버에 로그인\n",
    "\n",
    "# 이메일 제목, 수신자 이메일 주소, 본문의 내용을 지정\n",
    "subject = \"테스트 이메일 보내기\" # 이메일 제목\n",
    "from_address = email_address     # 송신자 이메일 주소\n",
    "to_address = \"dlwnsgur9242@naver.com\"    # 수신자 이메일 주소\n",
    "body = \"SMTP를 이용해 이메일을 보내는 테스트 본문입니다.- 뭉치와 차차 -\" # 본문\n",
    "\n",
    "msg = EmailMessage()        # 이메일 메시지 객체 생성\n",
    "msg['subject'] = subject    # 이메일 제목\n",
    "msg['From'] = from_address  # 수신자 이메일 주소\n",
    "msg['To'] = to_address      # 송신자 이메일 주소\n",
    "msg.set_content(body)       # 이메일 본문\n",
    "\n",
    "smtp.send_message(msg) # 메시지 보내기\n",
    "smtp.quit() # SMTP 세션을 종료"
   ]
  },
  {
   "cell_type": "code",
   "execution_count": 28,
   "id": "99c2a6a7",
   "metadata": {},
   "outputs": [],
   "source": [
    "import smtplib\n",
    "\n",
    "# 이메일 전송을 위한 SMTP 서버에 로그인\n",
    "def smtp_setting_login(option=\"gmail\"):\n",
    "    \n",
    "    if option==\"gmail\": # 구글 G메일의 SMTP 서버 이용\n",
    "        smtp_server = \"smtp.gmail.com\" # 구글 G메일의 SMTP 서버 주소\n",
    "        port = 587 # TLS 암호화 프로토콜 사용하는 포트\n",
    "        \n",
    "        email_address = \"dlwnsgur9242@gmail.com\" # 자신의 이메일 주소 입력\n",
    "        password = \"exld tjmu izqb zeye\"\n",
    "    elif option==\"nmail\": # 네이버 메일의 SMTP 서버 이용\n",
    "        smtp_server = \"smtp.naver.com\" # 네이버 메일의 SMTP 서버 주소\n",
    "        port = 587 # TLS 암호화 프로토콜 사용하는 포트\n",
    "        \n",
    "        email_address = \"dlwnsgur@naver.com\" # 자신의 이메일 주소입력\n",
    "        password = \"jg61832230@\"\n",
    "        \n",
    "    smtp = smtplib.SMTP(smtp_server, port) # SMTP 객체를 생성\n",
    "    smtp.starttls()\n",
    "    smtp.login(email_address, password) # SMTP 서버에 로그인\n",
    "    \n",
    "    return smtp, email_address # SMTP 객체와 로그인 이메일 주소 반환"
   ]
  },
  {
   "cell_type": "code",
   "execution_count": 31,
   "id": "2d80b610",
   "metadata": {},
   "outputs": [],
   "source": [
    "import smtplib\n",
    "from email.message import EmailMessage\n",
    "import json\n",
    "\n",
    "# 이름과 본문 내용으로 이메일을 보내는 함수\n",
    "def send_email(to, body): # to: 수신자 이름, body: 이메일 본문\n",
    "\n",
    "\n",
    "    # Chat Completions API가 수신자_이름@example.com과 같이\n",
    "    # 생성하는 것에 대비해 수신자 이름만 추출\n",
    "    to = to .split('@')[0]\n",
    "    \n",
    "    # 수신자 이름과 이메일 주소를 지정한 딕셔너리 변수\n",
    "    address_book = {\"이준혁구글2\":\"dlwnsgu2230@gmail.com\",\n",
    "                   \"차차씨\":\"dlwnsgur3977@naver.com\",\n",
    "                   \"이준혁구글\":\"dlwnsgur9242@gmail.com\",\n",
    "                   \"이준혁네이버\":\"dlwnsgur9242@naver.com\"}\n",
    "    \n",
    "    # 이메일 전송을 위한 SMTP 서버에 로그인\n",
    "    smtp, email_address = smtp_setting_login(\"gmail\")  # 구글 G메일 이용\n",
    "    # smtp, email_address = smtp_setting_login(\"nmail\") # 네이버 메일 이용\n",
    "    \n",
    "    subject = \"OpenAI의 함수 호출로 보낸 이메일\" # 이메일 제목\n",
    "    from_address = email_address # 송신자 이메일 주소\n",
    "    to_address = email_address   # 수신자 이메일 주소를 가져오기 전에 송신자 이메일 주소로 초기화\n",
    "    \n",
    "    # address_book의 어떤 키가 to의 이름을 전체 혹은 부분적으로 포함하면 이메일 주소를 가져옴\n",
    "    for dict_key in address_book.keys(): # address_book의 모든 키에 대해 반복문을 수행\n",
    "        if to in dict_key:             # 해당 키가 to의 이름을 전체 혹은 부분적으로 포함하면\n",
    "            to_address = address_book.get(dict_key) # 해당 키로 이메일 주소를 얻음\n",
    "            break # 이메일 주소를 얻었으므로, 반복문을 빠져나옴\n",
    "            \n",
    "    msg = EmailMessage()        # 이메일 메시지 객체 생성\n",
    "    msg['Subject'] = subject    # 이메일 제목 지정\n",
    "    msg['From'] = from_address  # 송신자 이메일 주소\n",
    "    msg['To'] = to_address      # 수신사 이메일 주소\n",
    "    msg.set_content(body)       # 이메일 본문\n",
    "    \n",
    "    smtp.send_message(msg)  # 메시지 보내기\n",
    "    smtp.quit()  # SMTP 세션을 종료\n",
    "    \n",
    "    send_mail = {\n",
    "        \"from\": \"이준혁\",\n",
    "        \"to\": to,\n",
    "        \"body\": body\n",
    "    }\n",
    "    \n",
    "    return json.dumps(send_mail, ensure_ascii=False) # JSON 형식으로 반환"
   ]
  },
  {
   "cell_type": "code",
   "execution_count": 33,
   "id": "fb4a5e02",
   "metadata": {},
   "outputs": [
    {
     "data": {
      "text/plain": [
       "'{\"from\": \"이준혁\", \"to\": \"차차씨\", \"body\": \"차차씨 나 뭉치야 우리 주말에 만나자.\"}'"
      ]
     },
     "execution_count": 33,
     "metadata": {},
     "output_type": "execute_result"
    }
   ],
   "source": [
    "send_email(\"차차씨\", \"차차씨 나 뭉치야 우리 주말에 만나자.\")"
   ]
  },
  {
   "cell_type": "code",
   "execution_count": 56,
   "id": "57b74654",
   "metadata": {},
   "outputs": [],
   "source": [
    "import openai\n",
    "import os\n",
    "\n",
    "# API 키 설정\n",
    "openai.api_key = os.environ[\"OPENAI_API_KEY\"]\n",
    "\n",
    "# Chat Completions  API를 이용해 사용자 입력에 따라 함수를 호출하고 응답하는 함수\n",
    "def run_conversation_for_email(user_query):\n",
    "    # 사용자 입력\n",
    "    messages = [{\"role\": \"user\", \"content\": user_query}]\n",
    "    \n",
    "    # 함수 정보 입력\n",
    "    functions = [\n",
    "        {\n",
    "            \"name\": \"send_email\",\n",
    "            \"description\": \"이름과 본문을 지정해 이메일 보내기, ~에게 이메일 보내기\",\n",
    "            \"parameters\": {\n",
    "                \"type\": \"object\",\n",
    "                \"properties\": {\n",
    "                    \"to\": {\n",
    "                        \"type\": \"string\",\n",
    "                        \"description\": \"사람 이름, 친구 이름, 받는 사람 이름\",\n",
    "                    },\n",
    "                    \"body\": {\n",
    "                        \"type\": \"string\",\n",
    "                        \"description\": \"이메일 본문\",\n",
    "                    },\n",
    "                },\n",
    "                \"required\": [\"to\", \"body\"], # 필수 입력 변수 지정\n",
    "            }\n",
    "        }\n",
    "    ]\n",
    "    \n",
    "    # 1단계: 사용지 입력과 함수 정보를 Chat Completions API 모델로 보내기\n",
    "    response = openai.ChatCompletion.create( # Chat Completions API 모델로 보내기\n",
    "        #model=\"gpt-3.5-turbo\", # gpt-3.5-turbo 모델\n",
    "        model=\"gpt-3.5-turbo\",\n",
    "        messages=messages,\n",
    "        functions=functions,\n",
    "        function_call=\"auto\"\n",
    "    )\n",
    "    \n",
    "    # 2단계: 응답 생성\n",
    "    response_message =response[\"choices\"][0][\"message\"] # 모델의 응답 메시지\n",
    "    \n",
    "    if response_message.get(\"function_call\"): # 응답이 함수 호출인지 확인하기\n",
    "        # 3단계: JSON 객체를 분석해 함수 이름과 인수를 추출한 후에 함수 호출\n",
    "        # (주의: JSON 응답이 항상 유효하지 않을 있음)\n",
    "        \n",
    "        # 호출할 함수 이름을 지정\n",
    "        # (아래는 하나의 함수를 지정했지만, 여러 함수 지정 가능)\n",
    "        available_functions = {\"send_email\": send_email}\n",
    "        \n",
    "        # 함수 이름 추출\n",
    "        function_name = response_message[\"function_call\"][\"name\"]\n",
    "        \n",
    "        # 호출할 함수 선택\n",
    "        function_to_call = available_functions[function_name]\n",
    "        \n",
    "        # 함수 호출을 위한 인수 추출\n",
    "        function_args = json.loads(response_message[\"function_call\"][\"arguments\"])\n",
    "        \n",
    "        # 함수 호출 및 반환 결과 받기\n",
    "        function_response = function_to_call(\n",
    "            to=function_args.get(\"to\"), # 인수 지정\n",
    "            body=function_args.get(\"body\") \n",
    "        )\n",
    "        \n",
    "        print(\"[호출한 함수의 응답 결과]\\n\", function_response)\n",
    "        \n",
    "        # 4단계: 함수 호출 결과를 기존 메시지에 추가하고,\n",
    "        #        Chat completions API 모델로 보내 응답받기\n",
    "        # 함수 호출 결과를 기존 메시지에 추가히기\n",
    "        messages.append(response_message) # 기존 messages에 조력자 응답 추가\n",
    "        messages.append(                  # 함수와 함수 호출 결과 추가\n",
    "            {\n",
    "                \"role\": \"function\",           # roll: function으로 지정\n",
    "                \"name\": function_name,        # name: 호출할 함수 이름 지정\n",
    "                \"content\": function_response  # content: 함수 호출 결과 지정\n",
    "            }\n",
    "        )\n",
    "        # 함수 호출 결과를 추가한 메시지를 Chat Completions API 모델로 보내 응답받기\n",
    "        second_response = openai.ChatCompletion.create(\n",
    "            # model=\"gpt-3.5-turbo\"\n",
    "            model=\"gpt-3.5-turbo\",\n",
    "            messages=messages,\n",
    "        )    \n",
    "        return second_response # 두 번째 응답 반환\n",
    "    \n",
    "    return response_message # 응답 메시지 반환"
   ]
  },
  {
   "cell_type": "code",
   "execution_count": 53,
   "id": "e05f0ae2",
   "metadata": {},
   "outputs": [
    {
     "name": "stdout",
     "output_type": "stream",
     "text": [
      "[호출한 함수의 응답 결과]\n",
      " {\"from\": \"이준혁\", \"to\": \"차차씨\", \"body\": \"안녕하세요, 내일 10시에 만나자는 제안을 해드립니다. 부디 시간이 맞으시면 확인해 주시고 응답 부탁드립니다. 감사합니다.\"}\n",
      "[최종 응답 결과]\n",
      " 이메일이 성공적으로 보내졌습니다. 곧 차차씨가 확인하고 답변해주실 것으로 기대해봅니다.\n"
     ]
    }
   ],
   "source": [
    "user_query = \"차차씨에게 내일 10시에 만나자고 이메일 보내줘\"\n",
    "response = run_conversation_for_email(user_query)\n",
    "\n",
    "try: # 함수 호출을 정상적으로 수행하면\n",
    "    response_content = response[\"choices\"][0][\"message\"][\"content\"]\n",
    "    print(\"[최종 응답 결과]\\n\", response_content)\n",
    "except: # 함수 호출을 하지 못하면\n",
    "    print(\"함수 호출을 하지 못했습니다.\")\n",
    "    print(\"[응답 내용]\", response['content'])"
   ]
  },
  {
   "cell_type": "code",
   "execution_count": 57,
   "id": "4a226d7e",
   "metadata": {},
   "outputs": [
    {
     "name": "stdout",
     "output_type": "stream",
     "text": [
      "[호출한 함수의 응답 결과]\n",
      " {\"from\": \"이준혁\", \"to\": \"차차씨\", \"body\": \"안녕하세요, 약속 장소를 알려드릴게요. 내일 2시에 서울역 광장에서 만나요.\"}\n",
      "[최종 응답 결과]\n",
      " 이메일을 성공적으로 보냈습니다. 걱정마세요, 차차씨가 약속 장소를 알게 될 거예요.\n"
     ]
    }
   ],
   "source": [
    "user_query = \"차차씨에게 약속 장소 알려달라는 이메일 보내줘\"\n",
    "response = run_conversation_for_email(user_query)\n",
    "\n",
    "try: # 함수 호출을 정상적으로 수행하면\n",
    "    response_content = response[\"choices\"][0][\"message\"][\"content\"]\n",
    "    print(\"[최종 응답 결과]\\n\", response_content)\n",
    "except: # 함수 호출을 하지 못하면\n",
    "    print(\"함수 호출을 하지 못했습니다.\")\n",
    "    print(\"[응답 내용]\", response['content'])"
   ]
  },
  {
   "cell_type": "code",
   "execution_count": 58,
   "id": "4e076b22",
   "metadata": {},
   "outputs": [
    {
     "name": "stdout",
     "output_type": "stream",
     "text": [
      "함수 호출을 하지 못했습니다.\n",
      "[응답 내용] 무슨 내용으로 이메일을 보내드릴까요?\n"
     ]
    }
   ],
   "source": [
    "user_query = \"차차씨에게 이메일 보내줘\"\n",
    "response = run_conversation_for_email(user_query)\n",
    "\n",
    "try: # 함수 호출을 정상적으로 수행하면\n",
    "    response_content = response[\"choices\"][0][\"message\"][\"content\"]\n",
    "    print(\"[최종 응답 결과]\\n\", response_content)\n",
    "except: # 함수 호출을 하지 못하면\n",
    "    print(\"함수 호출을 하지 못했습니다.\")\n",
    "    print(\"[응답 내용]\", response['content'])"
   ]
  },
  {
   "cell_type": "code",
   "execution_count": 62,
   "id": "ecf47bf3",
   "metadata": {},
   "outputs": [
    {
     "name": "stdout",
     "output_type": "stream",
     "text": [
      "[호출한 함수의 응답 결과]\n",
      " {\"from\": \"이준혁\", \"to\": \"차차씨\", \"body\": \"안녕하세요 차차씨,\\n\\n저희가 진행 중인 신규 사업에 대한 보고서 작성 상황을 문의드립니다. 혹시 현재까지 진행된 내용과 예정 일정에 대해 알려주실 수 있을까요? 부디 최신 상황에 대해 공유해주시면 감사하겠습니다.\\n\\n감사합니다.\"}\n",
      "[최종 응답 결과]\n",
      " 신규 사업에 대한 보고서 진행 상황을 문의하는 이메일이 차차씨에게 전송되었습니다.\n"
     ]
    }
   ],
   "source": [
    "user_query = \"차차씨에게 그간 작성한 신규 사업에 대한 보고서 진행 상황을 문의하는 이메일 보내줘\"\n",
    "response = run_conversation_for_email(user_query)\n",
    "\n",
    "try: # 함수 호출을 정상적으로 수행하면\n",
    "    response_content = response[\"choices\"][0][\"message\"][\"content\"]\n",
    "    print(\"[최종 응답 결과]\\n\", response_content)\n",
    "except: # 함수 호출을 하지 못하면\n",
    "    print(\"함수 호출을 하지 못했습니다.\")\n",
    "    print(\"[응답 내용]\", response['content'])"
   ]
  },
  {
   "cell_type": "code",
   "execution_count": null,
   "id": "a970df98",
   "metadata": {},
   "outputs": [],
   "source": []
  },
  {
   "cell_type": "code",
   "execution_count": null,
   "id": "4fe6060e",
   "metadata": {},
   "outputs": [],
   "source": []
  }
 ],
 "metadata": {
  "kernelspec": {
   "display_name": "Python 3 (ipykernel)",
   "language": "python",
   "name": "python3"
  },
  "language_info": {
   "codemirror_mode": {
    "name": "ipython",
    "version": 3
   },
   "file_extension": ".py",
   "mimetype": "text/x-python",
   "name": "python",
   "nbconvert_exporter": "python",
   "pygments_lexer": "ipython3",
   "version": "3.11.5"
  }
 },
 "nbformat": 4,
 "nbformat_minor": 5
}
